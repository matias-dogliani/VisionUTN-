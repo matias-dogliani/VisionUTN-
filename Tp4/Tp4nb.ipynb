{
 "cells": [
  {
   "cell_type": "markdown",
   "metadata": {},
   "source": [
    "# Trabajo práctico Nº4 \n",
    "\n",
    "Manipulación de imágenes \n",
    "\n",
    "Se escribe un programa que permite visualizar una imagen, seleccionar un área de la misma y guardarla si se desea. \n",
    "\n",
    "* Creamos una variable global de control **drawing** para conocer cuando se hizo click derecho y todavía no se termino de seleccionar el área (no se levantó el click). Las variables globales de posición en x e y sirven para dibujar el area seleccionada y luego guardarla cuando se elija la opción \n",
    "\n",
    "* Creamos una función que los eventos del mouse: \n",
    "     *  Cuando se hace click izquierdo se toma la posición del mouse actual (x,y) como inicial \n",
    "     * Mientras se mueva se va dibujando un rectangulo desde (ix,iy) a (x,y), limpiando la imagen cada vez que se mueve el mouse para no superponer rectángulos. \n",
    "     * Cuando se levanta el click izquierdo se termina el dibujo y se toma la posición actual del mouse como final \n",
    "\n",
    "Se trabaja sobre una imagen imgSwap y no sobre la original para no modificarla. "
   ]
  },
  {
   "cell_type": "code",
   "execution_count": 1,
   "metadata": {},
   "outputs": [],
   "source": [
    "import cv2                                                                      \n",
    "import numpy as np                                                              \n",
    "                                                                                \n",
    "#Variables globales de control                                                  \n",
    "drawing = False                                                                 \n",
    "ix, iy = -1, -1                                                                 \n",
    "fx, fy = -1, -1                                                                 \n",
    "                                                                                \n",
    "def draw (event,x,y,flags,param):                                               \n",
    "    global ix, iy,fx,fy, drawing, mode                                          \n",
    "    if event == cv2.EVENT_LBUTTONDOWN:                                          \n",
    "        drawing = True                                                          \n",
    "        ix, iy = x,y                                                            \n",
    "    elif event == cv2.EVENT_MOUSEMOVE:                                          \n",
    "        if drawing is True:                                                     \n",
    "            imgSwap[:] = img[:]      #Limpio la imagen dibujada                                           \n",
    "            cv2.rectangle(imgSwap,(ix,iy), (x,y), (0,255,0),1)                  \n",
    "    elif event == cv2.EVENT_LBUTTONUP:                                          \n",
    "        drawing = False                                                         \n",
    "        fx,fy = x,y                                                             \n",
    "        cv2.rectangle(imgSwap,(ix,iy), (x,y), (0,255,0),1)  "
   ]
  },
  {
   "cell_type": "markdown",
   "metadata": {},
   "source": [
    "* Abrimos la imagen (abrimos dos veces la misma y no las igualamos para que una sea la copia de otra pero no apunten a la misma dirección) \n",
    "\n",
    "* Mostramos las opciones y captamos la tecla presionada del teclado \n",
    "\n",
    "Para guardar la imagen creo una función, para verificar si la coordenadas finales son **mayores** que las inciales, para que el slicing funcione "
   ]
  },
  {
   "cell_type": "code",
   "execution_count": 5,
   "metadata": {},
   "outputs": [],
   "source": [
    "def fixedSlice():                                                                     \n",
    "    global ix,iy,fx,fy                                                          \n",
    "                                                                                \n",
    "    if fx < ix:                                                                 \n",
    "        fx,ix = ix,fx                                                           \n",
    "    if fy < iy:                                                                 \n",
    "        fy,iy = iy,fy                                                           \n",
    "                                                                                \n",
    "    return img[iy:fy, ix:fx]"
   ]
  },
  {
   "cell_type": "code",
   "execution_count": 6,
   "metadata": {},
   "outputs": [
    {
     "name": "stdout",
     "output_type": "stream",
     "text": [
      " Opciones :\n",
      "g : Guardar porción de imagen\n",
      "r : Limpiar la imagen\n",
      "q : salir \n"
     ]
    }
   ],
   "source": [
    "img =cv2.imread(\"./img/lena.jpeg\")                                              \n",
    "imgSwap =cv2.imread(\"./img/lena.jpeg\")                                          \n",
    "cv2.namedWindow(\"Ventana Imagen\")                                               \n",
    "cv2.setMouseCallback(\"Ventana Imagen\",draw)                                     \n",
    "                                                                                \n",
    "print(\" Opciones :\" ,                                                           \n",
    "            \"g : Guardar porción de imagen\",                                    \n",
    "            \"r : Limpiar la imagen\",                                            \n",
    "            \"q : salir \" , sep = \"\\n\" )                                         \n",
    "while(1):                                                                       \n",
    "    cv2.imshow(\"Ventana Imagen\", imgSwap)                                       \n",
    "    k = cv2.waitKey(1)                                                          \n",
    "    if k == ord('q'):                                                           \n",
    "        break                                                                   \n",
    "    elif k == ord('g'):                                                         \n",
    "         cv2.imwrite(\"./img/imagen_seleccionada.png\",fixedSlice())      \n",
    "    elif k == ord('r'):                                                         \n",
    "        imgSwap[:] = img[:]                                                     \n",
    "                                                                                \n",
    "cv2.destroyAllWindows()                                                         \n",
    "                          "
   ]
  }
 ],
 "metadata": {
  "kernelspec": {
   "display_name": "Vision",
   "language": "python",
   "name": "vision"
  },
  "language_info": {
   "codemirror_mode": {
    "name": "ipython",
    "version": 3
   },
   "file_extension": ".py",
   "mimetype": "text/x-python",
   "name": "python",
   "nbconvert_exporter": "python",
   "pygments_lexer": "ipython3",
   "version": "3.8.5"
  }
 },
 "nbformat": 4,
 "nbformat_minor": 4
}
